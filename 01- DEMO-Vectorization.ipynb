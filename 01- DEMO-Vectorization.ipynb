{
 "cells": [
  {
   "cell_type": "code",
   "execution_count": 1,
   "metadata": {},
   "outputs": [
    {
     "name": "stdout",
     "output_type": "stream",
     "text": [
      "[1 2 3 4 5]\n"
     ]
    }
   ],
   "source": [
    "# Import numpy\n",
    "import numpy as np\n",
    "# Create an array\n",
    "a=np.array([1,2,3,4,5])\n",
    "# Print a\n",
    "print(a)"
   ]
  },
  {
   "cell_type": "markdown",
   "metadata": {},
   "source": [
    "Perform the vectorization and non vectorization demos"
   ]
  },
  {
   "cell_type": "code",
   "execution_count": 19,
   "metadata": {},
   "outputs": [
    {
     "name": "stdout",
     "output_type": "stream",
     "text": [
      "The value of c is: 249845.86663386662\n",
      "vecorized version:0.9977817535400391ms\n",
      "****************************************\n",
      "The value of c is: 249845.86663387195\n",
      "For loop:458.9970111846924ms\n"
     ]
    }
   ],
   "source": [
    "##  Perform the vectorization demo\n",
    "\n",
    "#Import the time library\n",
    "import time \n",
    "\n",
    "#create an array a and b\n",
    "a = np.random.rand(1000000)\n",
    "b = np.random.rand(1000000)\n",
    "\n",
    "tic = time.time()\n",
    "c = np.dot(a,b)\n",
    "toc = time.time()\n",
    "print(\"The value of c is: {}\".format(c))\n",
    "print(\"vecorized version:\"+ str(1000*(toc-tic))+ \"ms\")\n",
    "print(\"*\"*40)\n",
    "## IMPLEMENT A NON VECTORIZATION VERSION\n",
    "\n",
    "c = 0\n",
    "tic = time.time()\n",
    "for i in range (1000000):\n",
    "    c+= a[i]*b[i]\n",
    "toc = time.time()\n",
    "\n",
    "print(\"The value of c is: {}\".format(c))\n",
    "print(\"For loop:\"+ str(1000*(toc-tic))+ \"ms\")\n"
   ]
  },
  {
   "cell_type": "markdown",
   "metadata": {},
   "source": [
    "# HIGHLIGHTS"
   ]
  },
  {
   "cell_type": "markdown",
   "metadata": {},
   "source": [
    "In both cases, the vectorize version and the non-vectorize version computed the same values\n",
    "\n",
    "The explicit for loop and non-vectorize version took about 400, almost 500 milliseconds. The non-vectorize version took something like 300 times longer than the vectorize version. With this example you see that if only you remember to vectorize your code, your code actually runs over 300 times faster. "
   ]
  },
  {
   "cell_type": "code",
   "execution_count": null,
   "metadata": {},
   "outputs": [],
   "source": []
  }
 ],
 "metadata": {
  "kernelspec": {
   "display_name": "Python 3",
   "language": "python",
   "name": "python3"
  },
  "language_info": {
   "codemirror_mode": {
    "name": "ipython",
    "version": 3
   },
   "file_extension": ".py",
   "mimetype": "text/x-python",
   "name": "python",
   "nbconvert_exporter": "python",
   "pygments_lexer": "ipython3",
   "version": "3.6.10"
  }
 },
 "nbformat": 4,
 "nbformat_minor": 4
}
